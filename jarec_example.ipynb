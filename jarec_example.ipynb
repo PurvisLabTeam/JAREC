{
 "cells": [
  {
   "cell_type": "code",
   "execution_count": null,
   "metadata": {},
   "outputs": [],
   "source": [
    "import numpy as np \n",
    "import pandas as pd\n",
    "import anndata as ad\n",
    "import seaborn as sns\n",
    "import random\n",
    "import os\n",
    "import matplotlib.pyplot as plt\n",
    "from sklearn.decomposition import PCA\n",
    "from scipy.stats import wilcoxon\n",
    "from scipy.stats import ortho_group\n",
    "from sklearn.model_selection import ParameterGrid\n",
    "from sklearn.model_selection import KFold, train_test_split\n",
    "from scipy.stats import wilcoxon\n",
    "from kh import sketch\n",
    "from utils_jarec import *\n",
    "import scipy.stats as stats "
   ]
  },
  {
   "cell_type": "code",
   "execution_count": null,
   "metadata": {},
   "outputs": [],
   "source": [
    "os.chdir(path) #set path to data folder\n",
    "t47d_0 = pd.read_csv('t47d_0.csv') #untreated T47D cells\n",
    "t47d_1 = pd.read_csv('t47d_1.csv') #1nm palbo T47D cells\n",
    "t47d_10 = pd.read_csv('t47d_10.csv') #1nm palbo T47D cells\n",
    "t47d_100 = pd.read_csv('t47d_100.csv') #1nm palbo T47D cells\n",
    "t47d_1000 = pd.read_csv('t47d_1000.csv') #1nm palbo T47D cells\n",
    "t47d_10000 = pd.read_csv('t47d_10000.csv') #1nm palbo T47D cells"
   ]
  },
  {
   "cell_type": "code",
   "execution_count": null,
   "metadata": {},
   "outputs": [],
   "source": [
    "#Test an untreated dataset against random splits of itself to adjust the sensitivity of the test\n",
    "\n",
    "all_gammas = []\n",
    "np.random.seed(1453)\n",
    "kf = KFold(n_splits=10, shuffle=True, random_state=1453)\n",
    "X = t47d_0.to_numpy()\n",
    "# Iterate over the cross-validation folds\n",
    "for train_index, test_index in kf.split(X):\n",
    "    # Split the data into training and testing sets for the current fold\n",
    "    X_train, X_test = X[train_index], X[test_index]\n",
    "\n",
    "    # Perform a random 50/50 train-test split on the training set\n",
    "    X_train_split, X_test_split = train_test_split(X_train, test_size=0.5, random_state=42)\n",
    "\n",
    "    # Calculate gamma using your get_gamma function\n",
    "    gamma = tuning_gamma(X_train_split, X_test_split, 0.95)\n",
    "\n",
    "    # Append gamma to the list\n",
    "    all_gammas.append(gamma)\n",
    "\n",
    "# Calculate the average gamma over all folds\n",
    "average_gamma = np.mean(all_gammas)\n",
    "\n",
    "# Print or use the average_gamma as needed\n",
    "print(\"Average Gamma:\", average_gamma)"
   ]
  },
  {
   "cell_type": "code",
   "execution_count": null,
   "metadata": {},
   "outputs": [],
   "source": [
    "#Now test between different conditions\n",
    "d_null_1, d_test_1, ss_union_1, ss_rep_1 = HypTestBootAll(t47d_0, t47d_1, B=1000, gamma =1, d = 2, multi=True)\n",
    "pval_1 = get_tuned_pval(d_test_1, d_null_1, average_gamma)\n",
    "print(pval_1)\n",
    "\n",
    "d_null_10, d_test_10, ss_union_10, ss_rep_10 = HypTestBootAll(t47d_0, t47d_10, B=1000, gamma =1, d = 2, multi=True)\n",
    "pval_10 = get_tuned_pval(d_test_10, d_null_10, average_gamma)\n",
    "print(pval_10)\n",
    "\n",
    "d_null_100, d_test_100, ss_union_100, ss_rep_100 = HypTestBootAll(t47d_0, t47d_100, B=1000, gamma =1, d = 2, multi=True)\n",
    "pval_100 = get_tuned_pval(d_test_100, d_null_100, average_gamma)\n",
    "print(pval_100)\n",
    "\n",
    "d_null_1000, d_test_1000, ss_union_1000, ss_rep_1000 = HypTestBootAll(t47d_0, t47d_1000, B=1000, gamma =1, d = 2, multi=True)\n",
    "pval_1000 = get_tuned_pval(d_test_1000, d_null_1000, average_gamma)\n",
    "print(pval_1000)\n",
    "\n",
    "d_null_10000, d_test_10000, ss_union_10000, ss_rep_10000 = HypTestBootAll(t47d_0, t47d_10000, B=1000, gamma =1, d = 2, multi=True)\n",
    "pval_10000 = get_tuned_pval(d_test_10000, d_null_10000, average_gamma)\n",
    "print(pval_10000)"
   ]
  }
 ],
 "metadata": {
  "kernelspec": {
   "display_name": "manifs",
   "language": "python",
   "name": "python3"
  },
  "language_info": {
   "name": "python",
   "version": "3.11.5"
  }
 },
 "nbformat": 4,
 "nbformat_minor": 2
}
